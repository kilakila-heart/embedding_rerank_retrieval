{
 "cells": [
  {
   "cell_type": "code",
   "execution_count": 1,
   "id": "c52f65c6-fa88-4490-9b7f-841c564db2b1",
   "metadata": {
    "is_executing": true
   },
   "outputs": [
    {
     "name": "stderr",
     "output_type": "stream",
     "text": [
      "/home/sheng/anaconda3/envs/llama_index/lib/python3.10/site-packages/requests/__init__.py:86: RequestsDependencyWarning: Unable to find acceptable character detection dependency (chardet or charset_normalizer).\n",
      "  warnings.warn(\n",
      "/home/sheng/anaconda3/envs/llama_index/lib/python3.10/site-packages/llama_index/download/module.py:12: UserWarning: pkg_resources is deprecated as an API. See https://setuptools.pypa.io/en/latest/pkg_resources.html. The pkg_resources package is slated for removal as early as 2025-11-30. Refrain from using this package or pin to Setuptools<81.\n",
      "  import pkg_resources\n"
     ]
    }
   ],
   "source": [
    "import json\n",
    "\n",
    "from llama_index import SimpleDirectoryReader\n",
    "from llama_index.node_parser import SentenceSplitter\n",
    "from llama_index.schema import MetadataMode"
   ]
  },
  {
   "cell_type": "code",
   "execution_count": 2,
   "id": "ca4963ea-966b-49ac-b8b5-17689b4ec0a3",
   "metadata": {},
   "outputs": [],
   "source": [
    "TRAIN_FILES = [\"train.txt\"]\n",
    "VAL_FILES = [\"test.txt\"]\n",
    "\n",
    "TRAIN_CORPUS_FPATH = \"train_corpus.json\"\n",
    "VAL_CORPUS_FPATH = \"val_corpus.json\""
   ]
  },
  {
   "cell_type": "code",
   "execution_count": 3,
   "id": "be5d9621-2e82-496c-b3e6-64c403c51f60",
   "metadata": {},
   "outputs": [],
   "source": [
    "def load_corpus(files, verbose=False):\n",
    "    if verbose:\n",
    "        print(f\"Loading files {files}\")\n",
    "\n",
    "    reader = SimpleDirectoryReader(input_files=files)\n",
    "    docs = reader.load_data()\n",
    "    if verbose:\n",
    "        print(f\"Loaded {len(docs)} docs\")\n",
    "\n",
    "    parser = SentenceSplitter(chunk_size=250, chunk_overlap=0)\n",
    "    nodes = parser.get_nodes_from_documents(docs, show_progress=verbose)\n",
    "\n",
    "    if verbose:\n",
    "        print(f\"Parsed {len(nodes)} nodes\")\n",
    "\n",
    "    return nodes"
   ]
  },
  {
   "cell_type": "code",
   "execution_count": 4,
   "id": "dea8767a-69f2-4c06-847b-464127872237",
   "metadata": {},
   "outputs": [
    {
     "name": "stdout",
     "output_type": "stream",
     "text": [
      "Loading files ['train.txt']\n",
      "Loaded 1 docs\n"
     ]
    },
    {
     "data": {
      "application/vnd.jupyter.widget-view+json": {
       "model_id": "6cda6be7e6f9438cb8da114b3b4c2e40",
       "version_major": 2,
       "version_minor": 0
      },
      "text/plain": [
       "Parsing nodes:   0%|          | 0/1 [00:00<?, ?it/s]"
      ]
     },
     "metadata": {},
     "output_type": "display_data"
    },
    {
     "name": "stdout",
     "output_type": "stream",
     "text": [
      "Parsed 129 nodes\n",
      "Loading files ['test.txt']\n",
      "Loaded 1 docs\n"
     ]
    },
    {
     "data": {
      "application/vnd.jupyter.widget-view+json": {
       "model_id": "243e98c575334f78903f93c4dbb3ea0d",
       "version_major": 2,
       "version_minor": 0
      },
      "text/plain": [
       "Parsing nodes:   0%|          | 0/1 [00:00<?, ?it/s]"
      ]
     },
     "metadata": {},
     "output_type": "display_data"
    },
    {
     "name": "stdout",
     "output_type": "stream",
     "text": [
      "Parsed 107 nodes\n"
     ]
    }
   ],
   "source": [
    "train_nodes = load_corpus(TRAIN_FILES, verbose=True)\n",
    "val_nodes = load_corpus(VAL_FILES, verbose=True)"
   ]
  },
  {
   "cell_type": "code",
   "execution_count": 5,
   "id": "5382543f-430b-446a-b1a4-3f121b0177b0",
   "metadata": {},
   "outputs": [
    {
     "data": {
      "text/plain": [
       "[TextNode(id_='8dad06d4-1a53-4e6b-bdb3-ff931af1e0c8', embedding=None, metadata={'file_path': 'train.txt', 'file_name': 'train.txt', 'file_type': 'text/plain', 'file_size': 66966, 'creation_date': '2025-07-18', 'last_modified_date': '2025-07-18', 'last_accessed_date': '2025-07-18'}, excluded_embed_metadata_keys=['file_name', 'file_type', 'file_size', 'creation_date', 'last_modified_date', 'last_accessed_date'], excluded_llm_metadata_keys=['file_name', 'file_type', 'file_size', 'creation_date', 'last_modified_date', 'last_accessed_date'], relationships={<NodeRelationship.SOURCE: '1'>: RelatedNodeInfo(node_id='e38c4e86-aead-4601-9c03-eac2b8b8a5e8', node_type=<ObjectType.DOCUMENT: '4'>, metadata={'file_path': 'train.txt', 'file_name': 'train.txt', 'file_type': 'text/plain', 'file_size': 66966, 'creation_date': '2025-07-18', 'last_modified_date': '2025-07-18', 'last_accessed_date': '2025-07-18'}, hash='a7ecd6f710f4578beb465a9fd03a9bb1d57a280c16f514247c2408f4555ec498'), <NodeRelationship.NEXT: '3'>: RelatedNodeInfo(node_id='b371cbd4-f562-4264-8564-b660c75e3a38', node_type=<ObjectType.TEXT: '1'>, metadata={}, hash='c2950b491d0515bb6385ef1831baaa2bd4e848f9e12a831e31bdccf00200172f')}, text='受半导体行业周期“磨底”、消费电子市场需求恢复缓慢等影响，今年A股半导体行业上市公司半年度业绩预告显示，归母净利润普遍同比下滑，IC设计、封测等环节成为“重灾区”， 。环比来看，部分头部企业第二季度业绩已经企稳复苏，盈利环比增长，人工智能、汽车电子、电网等板块贡献业绩，有公司表示下半年将企稳增长。', start_char_idx=0, end_char_idx=149, text_template='{metadata_str}\\n\\n{content}', metadata_template='{key}: {value}', metadata_seperator='\\n')]"
      ]
     },
     "execution_count": 5,
     "metadata": {},
     "output_type": "execute_result"
    }
   ],
   "source": [
    "train_nodes[:3]"
   ]
  },
  {
   "cell_type": "code",
   "execution_count": 6,
   "id": "70f02876-0e48-49dc-bfa8-8853b6e6651f",
   "metadata": {},
   "outputs": [],
   "source": [
    "from llama_index.finetuning import (\n",
    "    generate_qa_embedding_pairs,\n",
    "    EmbeddingQAFinetuneDataset,\n",
    ")\n",
    "from llama_index.llms.deepseek import DeepSeek\n",
    "import os\n",
    "\n",
    "os.environ[\"DEEPSEEK_API_KEY\"] = \"见dropbox\"\n",
    "llm = DeepSeek(model=\"deepseek-reasoner\", api_key=os.getenv(\"DEEPSEEK_API_KEY\"))\n",
    "\n",
    "# 或者直接在代码中传入 api_key"
   ]
  },
  {
   "cell_type": "code",
   "execution_count": 10,
   "id": "160e44d2-29e0-4303-85a0-3fb1102b5074",
   "metadata": {},
   "outputs": [
    {
     "name": "stderr",
     "output_type": "stream",
     "text": [
      "100%|███████████████████████████████████████| 129/129 [1:11:53<00:00, 33.44s/it]\n",
      "100%|█████████████████████████████████████████| 107/107 [57:15<00:00, 32.11s/it]\n"
     ]
    }
   ],
   "source": [
    "qa_generate_prompt_tmpl = \"\"\"\\\n",
    "Context information is below.\n",
    "\n",
    "---------------------\n",
    "{context_str}\n",
    "---------------------\n",
    "\n",
    "Given the context information and not prior knowledge.\n",
    "generate only questions based on the below query.\n",
    "\n",
    "You are a Professor. Your task is to setup \\\n",
    "{num_questions_per_chunk} questions for an upcoming \\\n",
    "quiz/examination in Chinese. The questions should be diverse in nature \\\n",
    "across the document in Chinese. The questions should not contain options, not start with Q1/ Q2. \\\n",
    "Restrict the questions to the context information provided.\n",
    "\"\"\"\n",
    "\n",
    "train_dataset = generate_qa_embedding_pairs(nodes=train_nodes, llm=llm, num_questions_per_chunk=1, qa_generate_prompt_tmpl=qa_generate_prompt_tmpl)\n",
    "val_dataset = generate_qa_embedding_pairs(nodes=val_nodes, llm=llm, num_questions_per_chunk=1, qa_generate_prompt_tmpl=qa_generate_prompt_tmpl)\n",
    "\n",
    "train_dataset.save_json(\"train_dataset.json\")\n",
    "val_dataset.save_json(\"val_dataset.json\")"
   ]
  },
  {
   "cell_type": "code",
   "execution_count": 7,
   "id": "b0e1401d-6a5d-45d9-a980-0c129ba122a7",
   "metadata": {},
   "outputs": [
    {
     "name": "stdout",
     "output_type": "stream",
     "text": [
      "INFO:sentence_transformers.SentenceTransformer:Use pytorch device_name: cuda:0\n",
      "Use pytorch device_name: cuda:0\n",
      "INFO:sentence_transformers.SentenceTransformer:Save model to /tmp/temp_sbert_model\n",
      "Save model to /tmp/temp_sbert_model\n",
      "INFO:sentence_transformers.SentenceTransformer:Use pytorch device_name: cuda:0\n",
      "Use pytorch device_name: cuda:0\n",
      "INFO:sentence_transformers.SentenceTransformer:Load pretrained SentenceTransformer: /tmp/temp_sbert_model\n",
      "Load pretrained SentenceTransformer: /tmp/temp_sbert_model\n"
     ]
    }
   ],
   "source": [
    "from llama_index.finetuning import SentenceTransformersFinetuneEngine\n",
    "from sentence_transformers import SentenceTransformer, models\n",
    "import json\n",
    "from datasets import Dataset\n",
    "train_dataset = EmbeddingQAFinetuneDataset.from_json(\"train_dataset.json\")\n",
    "val_dataset= EmbeddingQAFinetuneDataset.from_json(\"val_dataset.json\")\n",
    "\n",
    "# 构造Transformer + Pooling模块\n",
    "word_model = models.Transformer(\"/home/sheng/model/BAAI/bge-base-zh-v1.5\")\n",
    "pooling_model = models.Pooling(word_model.get_word_embedding_dimension())\n",
    "st_model = SentenceTransformer(modules=[word_model, pooling_model])\n",
    "st_model.save(\"/tmp/temp_sbert_model\")\n",
    "\n",
    "# ✅ 使用关键字传入 model\n",
    "finetune_engine = SentenceTransformersFinetuneEngine(\n",
    "    train_dataset,                              # 位置参数 #1：训练集\n",
    "    \"/tmp/temp_sbert_model\",                            # 关键字参数，传入模型对象\n",
    "    model_output_path=\"/home/sheng/model/bge-base-ft-001\",  # 关键字参数，保存路径\n",
    "    val_dataset=val_dataset,                    # 验证集（可省略或写 None）\n",
    "    batch_size=8,\n",
    "    epochs=10,\n",
    "    evaluation_steps=100,\n",
    ")\n",
    "\n"
   ]
  },
  {
   "cell_type": "code",
   "execution_count": 8,
   "id": "b50495a7-50a8-4adf-93e2-854f07098e04",
   "metadata": {},
   "outputs": [
    {
     "data": {
      "application/vnd.jupyter.widget-view+json": {
       "model_id": "05da90400f464966a70f5b1107b23436",
       "version_major": 2,
       "version_minor": 0
      },
      "text/plain": [
       "Computing widget examples:   0%|          | 0/1 [00:00<?, ?example/s]"
      ]
     },
     "metadata": {},
     "output_type": "display_data"
    },
    {
     "data": {
      "text/html": [
       "\n",
       "    <div>\n",
       "      \n",
       "      <progress value='90' max='90' style='width:300px; height:20px; vertical-align: middle;'></progress>\n",
       "      [90/90 04:15, Epoch 3/3]\n",
       "    </div>\n",
       "    <table border=\"1\" class=\"dataframe\">\n",
       "  <thead>\n",
       " <tr style=\"text-align: left;\">\n",
       "      <th>Step</th>\n",
       "      <th>Training Loss</th>\n",
       "      <th>Validation Loss</th>\n",
       "      <th>Cosine Accuracy@1</th>\n",
       "      <th>Cosine Accuracy@3</th>\n",
       "      <th>Cosine Accuracy@5</th>\n",
       "      <th>Cosine Accuracy@10</th>\n",
       "      <th>Cosine Precision@1</th>\n",
       "      <th>Cosine Precision@3</th>\n",
       "      <th>Cosine Precision@5</th>\n",
       "      <th>Cosine Precision@10</th>\n",
       "      <th>Cosine Recall@1</th>\n",
       "      <th>Cosine Recall@3</th>\n",
       "      <th>Cosine Recall@5</th>\n",
       "      <th>Cosine Recall@10</th>\n",
       "      <th>Cosine Ndcg@10</th>\n",
       "      <th>Cosine Mrr@10</th>\n",
       "      <th>Cosine Map@100</th>\n",
       "    </tr>\n",
       "  </thead>\n",
       "  <tbody>\n",
       "    <tr>\n",
       "      <td>30</td>\n",
       "      <td>No log</td>\n",
       "      <td>No log</td>\n",
       "      <td>0.584211</td>\n",
       "      <td>0.663158</td>\n",
       "      <td>0.684211</td>\n",
       "      <td>0.721053</td>\n",
       "      <td>0.584211</td>\n",
       "      <td>0.221053</td>\n",
       "      <td>0.136842</td>\n",
       "      <td>0.072105</td>\n",
       "      <td>0.584211</td>\n",
       "      <td>0.663158</td>\n",
       "      <td>0.684211</td>\n",
       "      <td>0.721053</td>\n",
       "      <td>0.652524</td>\n",
       "      <td>0.630787</td>\n",
       "      <td>0.637102</td>\n",
       "    </tr>\n",
       "    <tr>\n",
       "      <td>60</td>\n",
       "      <td>No log</td>\n",
       "      <td>No log</td>\n",
       "      <td>0.589474</td>\n",
       "      <td>0.668421</td>\n",
       "      <td>0.694737</td>\n",
       "      <td>0.726316</td>\n",
       "      <td>0.589474</td>\n",
       "      <td>0.222807</td>\n",
       "      <td>0.138947</td>\n",
       "      <td>0.072632</td>\n",
       "      <td>0.589474</td>\n",
       "      <td>0.668421</td>\n",
       "      <td>0.694737</td>\n",
       "      <td>0.726316</td>\n",
       "      <td>0.657995</td>\n",
       "      <td>0.636241</td>\n",
       "      <td>0.642581</td>\n",
       "    </tr>\n",
       "    <tr>\n",
       "      <td>90</td>\n",
       "      <td>No log</td>\n",
       "      <td>No log</td>\n",
       "      <td>0.584211</td>\n",
       "      <td>0.673684</td>\n",
       "      <td>0.694737</td>\n",
       "      <td>0.721053</td>\n",
       "      <td>0.584211</td>\n",
       "      <td>0.224561</td>\n",
       "      <td>0.138947</td>\n",
       "      <td>0.072105</td>\n",
       "      <td>0.584211</td>\n",
       "      <td>0.673684</td>\n",
       "      <td>0.694737</td>\n",
       "      <td>0.721053</td>\n",
       "      <td>0.655596</td>\n",
       "      <td>0.634451</td>\n",
       "      <td>0.641205</td>\n",
       "    </tr>\n",
       "  </tbody>\n",
       "</table><p>"
      ],
      "text/plain": [
       "<IPython.core.display.HTML object>"
      ]
     },
     "metadata": {},
     "output_type": "display_data"
    },
    {
     "name": "stdout",
     "output_type": "stream",
     "text": [
      "INFO:sentence_transformers.evaluation.InformationRetrievalEvaluator:Information Retrieval Evaluation of the model on the  dataset in epoch 1.0 after 30 steps:\n",
      "Information Retrieval Evaluation of the model on the  dataset in epoch 1.0 after 30 steps:\n",
      "INFO:sentence_transformers.evaluation.InformationRetrievalEvaluator:Queries: 190\n",
      "Queries: 190\n",
      "INFO:sentence_transformers.evaluation.InformationRetrievalEvaluator:Corpus: 107\n",
      "\n",
      "Corpus: 107\n",
      "\n",
      "INFO:sentence_transformers.evaluation.InformationRetrievalEvaluator:Score-Function: cosine\n",
      "Score-Function: cosine\n",
      "INFO:sentence_transformers.evaluation.InformationRetrievalEvaluator:Accuracy@1: 58.42%\n",
      "Accuracy@1: 58.42%\n",
      "INFO:sentence_transformers.evaluation.InformationRetrievalEvaluator:Accuracy@3: 66.32%\n",
      "Accuracy@3: 66.32%\n",
      "INFO:sentence_transformers.evaluation.InformationRetrievalEvaluator:Accuracy@5: 68.42%\n",
      "Accuracy@5: 68.42%\n",
      "INFO:sentence_transformers.evaluation.InformationRetrievalEvaluator:Accuracy@10: 72.11%\n",
      "Accuracy@10: 72.11%\n",
      "INFO:sentence_transformers.evaluation.InformationRetrievalEvaluator:Precision@1: 58.42%\n",
      "Precision@1: 58.42%\n",
      "INFO:sentence_transformers.evaluation.InformationRetrievalEvaluator:Precision@3: 22.11%\n",
      "Precision@3: 22.11%\n",
      "INFO:sentence_transformers.evaluation.InformationRetrievalEvaluator:Precision@5: 13.68%\n",
      "Precision@5: 13.68%\n",
      "INFO:sentence_transformers.evaluation.InformationRetrievalEvaluator:Precision@10: 7.21%\n",
      "Precision@10: 7.21%\n",
      "INFO:sentence_transformers.evaluation.InformationRetrievalEvaluator:Recall@1: 58.42%\n",
      "Recall@1: 58.42%\n",
      "INFO:sentence_transformers.evaluation.InformationRetrievalEvaluator:Recall@3: 66.32%\n",
      "Recall@3: 66.32%\n",
      "INFO:sentence_transformers.evaluation.InformationRetrievalEvaluator:Recall@5: 68.42%\n",
      "Recall@5: 68.42%\n",
      "INFO:sentence_transformers.evaluation.InformationRetrievalEvaluator:Recall@10: 72.11%\n",
      "Recall@10: 72.11%\n",
      "INFO:sentence_transformers.evaluation.InformationRetrievalEvaluator:MRR@10: 0.6308\n",
      "MRR@10: 0.6308\n",
      "INFO:sentence_transformers.evaluation.InformationRetrievalEvaluator:NDCG@10: 0.6525\n",
      "NDCG@10: 0.6525\n",
      "INFO:sentence_transformers.evaluation.InformationRetrievalEvaluator:MAP@100: 0.6371\n",
      "MAP@100: 0.6371\n",
      "INFO:sentence_transformers.SentenceTransformer:Save model to /home/sheng/model/bge-base-ft-001\n",
      "Save model to /home/sheng/model/bge-base-ft-001\n",
      "INFO:sentence_transformers.evaluation.InformationRetrievalEvaluator:Information Retrieval Evaluation of the model on the  dataset in epoch 2.0 after 60 steps:\n",
      "Information Retrieval Evaluation of the model on the  dataset in epoch 2.0 after 60 steps:\n",
      "INFO:sentence_transformers.evaluation.InformationRetrievalEvaluator:Queries: 190\n",
      "Queries: 190\n",
      "INFO:sentence_transformers.evaluation.InformationRetrievalEvaluator:Corpus: 107\n",
      "\n",
      "Corpus: 107\n",
      "\n",
      "INFO:sentence_transformers.evaluation.InformationRetrievalEvaluator:Score-Function: cosine\n",
      "Score-Function: cosine\n",
      "INFO:sentence_transformers.evaluation.InformationRetrievalEvaluator:Accuracy@1: 58.95%\n",
      "Accuracy@1: 58.95%\n",
      "INFO:sentence_transformers.evaluation.InformationRetrievalEvaluator:Accuracy@3: 66.84%\n",
      "Accuracy@3: 66.84%\n",
      "INFO:sentence_transformers.evaluation.InformationRetrievalEvaluator:Accuracy@5: 69.47%\n",
      "Accuracy@5: 69.47%\n",
      "INFO:sentence_transformers.evaluation.InformationRetrievalEvaluator:Accuracy@10: 72.63%\n",
      "Accuracy@10: 72.63%\n",
      "INFO:sentence_transformers.evaluation.InformationRetrievalEvaluator:Precision@1: 58.95%\n",
      "Precision@1: 58.95%\n",
      "INFO:sentence_transformers.evaluation.InformationRetrievalEvaluator:Precision@3: 22.28%\n",
      "Precision@3: 22.28%\n",
      "INFO:sentence_transformers.evaluation.InformationRetrievalEvaluator:Precision@5: 13.89%\n",
      "Precision@5: 13.89%\n",
      "INFO:sentence_transformers.evaluation.InformationRetrievalEvaluator:Precision@10: 7.26%\n",
      "Precision@10: 7.26%\n",
      "INFO:sentence_transformers.evaluation.InformationRetrievalEvaluator:Recall@1: 58.95%\n",
      "Recall@1: 58.95%\n",
      "INFO:sentence_transformers.evaluation.InformationRetrievalEvaluator:Recall@3: 66.84%\n",
      "Recall@3: 66.84%\n",
      "INFO:sentence_transformers.evaluation.InformationRetrievalEvaluator:Recall@5: 69.47%\n",
      "Recall@5: 69.47%\n",
      "INFO:sentence_transformers.evaluation.InformationRetrievalEvaluator:Recall@10: 72.63%\n",
      "Recall@10: 72.63%\n",
      "INFO:sentence_transformers.evaluation.InformationRetrievalEvaluator:MRR@10: 0.6362\n",
      "MRR@10: 0.6362\n",
      "INFO:sentence_transformers.evaluation.InformationRetrievalEvaluator:NDCG@10: 0.6580\n",
      "NDCG@10: 0.6580\n",
      "INFO:sentence_transformers.evaluation.InformationRetrievalEvaluator:MAP@100: 0.6426\n",
      "MAP@100: 0.6426\n",
      "INFO:sentence_transformers.SentenceTransformer:Save model to /home/sheng/model/bge-base-ft-001\n",
      "Save model to /home/sheng/model/bge-base-ft-001\n",
      "INFO:sentence_transformers.evaluation.InformationRetrievalEvaluator:Information Retrieval Evaluation of the model on the  dataset in epoch 3.0 after 90 steps:\n",
      "Information Retrieval Evaluation of the model on the  dataset in epoch 3.0 after 90 steps:\n",
      "INFO:sentence_transformers.evaluation.InformationRetrievalEvaluator:Queries: 190\n",
      "Queries: 190\n",
      "INFO:sentence_transformers.evaluation.InformationRetrievalEvaluator:Corpus: 107\n",
      "\n",
      "Corpus: 107\n",
      "\n",
      "INFO:sentence_transformers.evaluation.InformationRetrievalEvaluator:Score-Function: cosine\n",
      "Score-Function: cosine\n",
      "INFO:sentence_transformers.evaluation.InformationRetrievalEvaluator:Accuracy@1: 58.42%\n",
      "Accuracy@1: 58.42%\n",
      "INFO:sentence_transformers.evaluation.InformationRetrievalEvaluator:Accuracy@3: 67.37%\n",
      "Accuracy@3: 67.37%\n",
      "INFO:sentence_transformers.evaluation.InformationRetrievalEvaluator:Accuracy@5: 69.47%\n",
      "Accuracy@5: 69.47%\n",
      "INFO:sentence_transformers.evaluation.InformationRetrievalEvaluator:Accuracy@10: 72.11%\n",
      "Accuracy@10: 72.11%\n",
      "INFO:sentence_transformers.evaluation.InformationRetrievalEvaluator:Precision@1: 58.42%\n",
      "Precision@1: 58.42%\n",
      "INFO:sentence_transformers.evaluation.InformationRetrievalEvaluator:Precision@3: 22.46%\n",
      "Precision@3: 22.46%\n",
      "INFO:sentence_transformers.evaluation.InformationRetrievalEvaluator:Precision@5: 13.89%\n",
      "Precision@5: 13.89%\n",
      "INFO:sentence_transformers.evaluation.InformationRetrievalEvaluator:Precision@10: 7.21%\n",
      "Precision@10: 7.21%\n",
      "INFO:sentence_transformers.evaluation.InformationRetrievalEvaluator:Recall@1: 58.42%\n",
      "Recall@1: 58.42%\n",
      "INFO:sentence_transformers.evaluation.InformationRetrievalEvaluator:Recall@3: 67.37%\n",
      "Recall@3: 67.37%\n",
      "INFO:sentence_transformers.evaluation.InformationRetrievalEvaluator:Recall@5: 69.47%\n",
      "Recall@5: 69.47%\n",
      "INFO:sentence_transformers.evaluation.InformationRetrievalEvaluator:Recall@10: 72.11%\n",
      "Recall@10: 72.11%\n",
      "INFO:sentence_transformers.evaluation.InformationRetrievalEvaluator:MRR@10: 0.6345\n",
      "MRR@10: 0.6345\n",
      "INFO:sentence_transformers.evaluation.InformationRetrievalEvaluator:NDCG@10: 0.6556\n",
      "NDCG@10: 0.6556\n",
      "INFO:sentence_transformers.evaluation.InformationRetrievalEvaluator:MAP@100: 0.6412\n",
      "MAP@100: 0.6412\n"
     ]
    }
   ],
   "source": [
    "\n",
    "finetune_engine.finetune()"
   ]
  },
  {
   "cell_type": "code",
   "execution_count": 10,
   "id": "2a289e1c-6660-4d4d-8c40-5f8587a21154",
   "metadata": {},
   "outputs": [
    {
     "data": {
      "text/plain": [
       "MultipleNegativesRankingLoss(\n",
       "  (model): SentenceTransformer(\n",
       "    (0): Transformer({'max_seq_length': 512, 'do_lower_case': False, 'architecture': 'BertModel'})\n",
       "    (1): Pooling({'word_embedding_dimension': 768, 'pooling_mode_cls_token': False, 'pooling_mode_mean_tokens': True, 'pooling_mode_max_tokens': False, 'pooling_mode_mean_sqrt_len_tokens': False, 'pooling_mode_weightedmean_tokens': False, 'pooling_mode_lasttoken': False, 'include_prompt': True})\n",
       "  )\n",
       "  (cross_entropy_loss): CrossEntropyLoss()\n",
       ")"
      ]
     },
     "execution_count": 10,
     "metadata": {},
     "output_type": "execute_result"
    }
   ],
   "source": [
    "finetune_engine.loss"
   ]
  },
  {
   "cell_type": "code",
   "execution_count": null,
   "id": "41faed90-f7cb-4f84-9b92-5f8bbf2491a0",
   "metadata": {},
   "outputs": [],
   "source": []
  }
 ],
 "metadata": {
  "kernelspec": {
   "display_name": "Python 3 (ipykernel)",
   "language": "python",
   "name": "python3"
  },
  "language_info": {
   "codemirror_mode": {
    "name": "ipython",
    "version": 3
   },
   "file_extension": ".py",
   "mimetype": "text/x-python",
   "name": "python",
   "nbconvert_exporter": "python",
   "pygments_lexer": "ipython3",
   "version": "3.10.18"
  }
 },
 "nbformat": 4,
 "nbformat_minor": 5
}
